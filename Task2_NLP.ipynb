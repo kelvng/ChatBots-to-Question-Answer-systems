{
  "nbformat": 4,
  "nbformat_minor": 0,
  "metadata": {
    "colab": {
      "name": "Task2_NLP.ipynb",
      "provenance": [],
      "collapsed_sections": [],
      "include_colab_link": true
    },
    "kernelspec": {
      "name": "python3",
      "display_name": "Python 3"
    },
    "language_info": {
      "name": "python"
    },
    "accelerator": "GPU"
  },
  "cells": [
    {
      "cell_type": "markdown",
      "metadata": {
        "id": "view-in-github",
        "colab_type": "text"
      },
      "source": [
        "<a href=\"https://colab.research.google.com/github/nthanhkhang/ChatBots-to-Question-Answer-systems/blob/main/Task2_NLP.ipynb\" target=\"_parent\"><img src=\"https://colab.research.google.com/assets/colab-badge.svg\" alt=\"Open In Colab\"/></a>"
      ]
    },
    {
      "cell_type": "markdown",
      "metadata": {
        "id": "UlOoeawDGuki"
      },
      "source": [
        "# I.Import Library"
      ]
    },
    {
      "cell_type": "code",
      "metadata": {
        "colab": {
          "base_uri": "https://localhost:8080/"
        },
        "id": "pXxMKJcznI1F",
        "outputId": "a472fc6b-2039-4b43-b0bc-1f9a8267414a"
      },
      "source": [
        "import re\n",
        "import pandas as pd\n",
        "from nltk.corpus import stopwords\n",
        "\n",
        "import tensorflow as tf\n",
        "from tensorflow import keras\n",
        "from keras.preprocessing.text import Tokenizer\n",
        "from keras.preprocessing.sequence import pad_sequences\n",
        "\n",
        "import matplotlib.pyplot as plt\n",
        "import seaborn as sns\n",
        "sns.set_style(\"whitegrid\")\n",
        "\n",
        "from keras.layers import Input,Embedding,Bidirectional,LSTM,Dense,Concatenate\n",
        "from keras.models import Model\n",
        "import nltk\n",
        "nltk.download('stopwords')\n",
        "nltk.download('punkt')\n",
        "import numpy as np"
      ],
      "execution_count": null,
      "outputs": [
        {
          "output_type": "stream",
          "text": [
            "[nltk_data] Downloading package stopwords to /root/nltk_data...\n",
            "[nltk_data]   Package stopwords is already up-to-date!\n",
            "[nltk_data] Downloading package punkt to /root/nltk_data...\n",
            "[nltk_data]   Package punkt is already up-to-date!\n"
          ],
          "name": "stdout"
        }
      ]
    },
    {
      "cell_type": "markdown",
      "metadata": {
        "id": "yJ9MrGk6G8FU"
      },
      "source": [
        "# II.Read Data"
      ]
    },
    {
      "cell_type": "code",
      "metadata": {
        "colab": {
          "base_uri": "https://localhost:8080/"
        },
        "id": "pmF1pX90nL8y",
        "outputId": "e5a56602-ac4e-44bb-d319-d34a20b2a1ed"
      },
      "source": [
        "import zipfile\n",
        "with zipfile.ZipFile(\"DataChatbot.zip\",\"r\") as zf:\n",
        "    zf.extractall('DataChatbot')\n",
        "print(zf)"
      ],
      "execution_count": null,
      "outputs": [
        {
          "output_type": "stream",
          "text": [
            "<zipfile.ZipFile [closed]>\n"
          ],
          "name": "stdout"
        }
      ]
    },
    {
      "cell_type": "code",
      "metadata": {
        "colab": {
          "base_uri": "https://localhost:8080/"
        },
        "id": "nMhIcCCxnWX9",
        "outputId": "96a59696-d63c-4f36-f983-e387a23ea664"
      },
      "source": [
        "questions=[]\n",
        "answers=[]\n",
        "error=0\n",
        "import glob\n",
        "import os\n",
        "path = 'DataChatbot'\n",
        "for filename in glob.glob(os.path.join(path, '*.txt')):\n",
        "   with open(os.path.join(os.getcwd(), filename), 'r') as f: # open in readonly mode\n",
        "      for line in f:\n",
        "        part = line.strip().strip('__eou_').split('__eou__')\n",
        "        questions.append(\", \".join(part[:-1]))\n",
        "        answers.append(part[-1])\n",
        "print('Question',questions[:5])\n",
        "print('Answers',answers[:5])"
      ],
      "execution_count": null,
      "outputs": [
        {
          "output_type": "stream",
          "text": [
            "Question ['bạn đã có việc làm chưa ? ', 'bạn đã có việc làm chưa ? ', 'bạn đã đi làm hay chưa? ', 'hiện tại bạn làm ở đâu? ', 'địa chỉ nơi làm việc của bạn ở đâu? ']\n",
            "Answers [' chưa, mình đang thất nghiệp ', ' rồi, mình đang làm việc cho một công ty ', ' mình đã đi làm rồi ', ' hiện tại mình làm ở FPT software ', ' ở khu công nghệ cao ']\n"
          ],
          "name": "stdout"
        }
      ]
    },
    {
      "cell_type": "code",
      "metadata": {
        "colab": {
          "base_uri": "https://localhost:8080/",
          "height": 197
        },
        "id": "oW2Bdj_Sndnw",
        "outputId": "b00b9c48-0901-439b-af84-ffc9f513461f"
      },
      "source": [
        "df = pd.DataFrame(questions)\n",
        "df.columns = [\"Questions\"]\n",
        "df['Answers']=df['Questions'].apply(len)\n",
        "df['Answers'] = pd.DataFrame(answers)\n",
        "df.head()"
      ],
      "execution_count": null,
      "outputs": [
        {
          "output_type": "execute_result",
          "data": {
            "text/html": [
              "<div>\n",
              "<style scoped>\n",
              "    .dataframe tbody tr th:only-of-type {\n",
              "        vertical-align: middle;\n",
              "    }\n",
              "\n",
              "    .dataframe tbody tr th {\n",
              "        vertical-align: top;\n",
              "    }\n",
              "\n",
              "    .dataframe thead th {\n",
              "        text-align: right;\n",
              "    }\n",
              "</style>\n",
              "<table border=\"1\" class=\"dataframe\">\n",
              "  <thead>\n",
              "    <tr style=\"text-align: right;\">\n",
              "      <th></th>\n",
              "      <th>Questions</th>\n",
              "      <th>Answers</th>\n",
              "    </tr>\n",
              "  </thead>\n",
              "  <tbody>\n",
              "    <tr>\n",
              "      <th>0</th>\n",
              "      <td>bạn đã có việc làm chưa ?</td>\n",
              "      <td>chưa, mình đang thất nghiệp</td>\n",
              "    </tr>\n",
              "    <tr>\n",
              "      <th>1</th>\n",
              "      <td>bạn đã có việc làm chưa ?</td>\n",
              "      <td>rồi, mình đang làm việc cho một công ty</td>\n",
              "    </tr>\n",
              "    <tr>\n",
              "      <th>2</th>\n",
              "      <td>bạn đã đi làm hay chưa?</td>\n",
              "      <td>mình đã đi làm rồi</td>\n",
              "    </tr>\n",
              "    <tr>\n",
              "      <th>3</th>\n",
              "      <td>hiện tại bạn làm ở đâu?</td>\n",
              "      <td>hiện tại mình làm ở FPT software</td>\n",
              "    </tr>\n",
              "    <tr>\n",
              "      <th>4</th>\n",
              "      <td>địa chỉ nơi làm việc của bạn ở đâu?</td>\n",
              "      <td>ở khu công nghệ cao</td>\n",
              "    </tr>\n",
              "  </tbody>\n",
              "</table>\n",
              "</div>"
            ],
            "text/plain": [
              "                              Questions                                    Answers\n",
              "0            bạn đã có việc làm chưa ?                chưa, mình đang thất nghiệp \n",
              "1            bạn đã có việc làm chưa ?    rồi, mình đang làm việc cho một công ty \n",
              "2              bạn đã đi làm hay chưa?                         mình đã đi làm rồi \n",
              "3              hiện tại bạn làm ở đâu?           hiện tại mình làm ở FPT software \n",
              "4  địa chỉ nơi làm việc của bạn ở đâu?                        ở khu công nghệ cao "
            ]
          },
          "metadata": {
            "tags": []
          },
          "execution_count": 6
        }
      ]
    },
    {
      "cell_type": "code",
      "metadata": {
        "colab": {
          "base_uri": "https://localhost:8080/",
          "height": 384
        },
        "id": "zB7avYexntYz",
        "outputId": "76066c47-9298-4a2f-afd3-4aac3f6a175d"
      },
      "source": [
        "print(df.shape)\n",
        "print(\"=\"*60)\n",
        "print(df.info())\n",
        "print(\"=\"*60)\n",
        "df.describe()"
      ],
      "execution_count": null,
      "outputs": [
        {
          "output_type": "stream",
          "text": [
            "(5855, 2)\n",
            "============================================================\n",
            "<class 'pandas.core.frame.DataFrame'>\n",
            "RangeIndex: 5855 entries, 0 to 5854\n",
            "Data columns (total 2 columns):\n",
            " #   Column     Non-Null Count  Dtype \n",
            "---  ------     --------------  ----- \n",
            " 0   Questions  5855 non-null   object\n",
            " 1   Answers    5855 non-null   object\n",
            "dtypes: object(2)\n",
            "memory usage: 91.6+ KB\n",
            "None\n",
            "============================================================\n"
          ],
          "name": "stdout"
        },
        {
          "output_type": "execute_result",
          "data": {
            "text/html": [
              "<div>\n",
              "<style scoped>\n",
              "    .dataframe tbody tr th:only-of-type {\n",
              "        vertical-align: middle;\n",
              "    }\n",
              "\n",
              "    .dataframe tbody tr th {\n",
              "        vertical-align: top;\n",
              "    }\n",
              "\n",
              "    .dataframe thead th {\n",
              "        text-align: right;\n",
              "    }\n",
              "</style>\n",
              "<table border=\"1\" class=\"dataframe\">\n",
              "  <thead>\n",
              "    <tr style=\"text-align: right;\">\n",
              "      <th></th>\n",
              "      <th>Questions</th>\n",
              "      <th>Answers</th>\n",
              "    </tr>\n",
              "  </thead>\n",
              "  <tbody>\n",
              "    <tr>\n",
              "      <th>count</th>\n",
              "      <td>5855</td>\n",
              "      <td>5855</td>\n",
              "    </tr>\n",
              "    <tr>\n",
              "      <th>unique</th>\n",
              "      <td>4919</td>\n",
              "      <td>5067</td>\n",
              "    </tr>\n",
              "    <tr>\n",
              "      <th>top</th>\n",
              "      <td>bạn sinh năm nào?</td>\n",
              "      <td></td>\n",
              "    </tr>\n",
              "    <tr>\n",
              "      <th>freq</th>\n",
              "      <td>25</td>\n",
              "      <td>86</td>\n",
              "    </tr>\n",
              "  </tbody>\n",
              "</table>\n",
              "</div>"
            ],
            "text/plain": [
              "                 Questions Answers\n",
              "count                 5855    5855\n",
              "unique                4919    5067\n",
              "top     bạn sinh năm nào?         \n",
              "freq                    25      86"
            ]
          },
          "metadata": {
            "tags": []
          },
          "execution_count": 7
        }
      ]
    },
    {
      "cell_type": "code",
      "metadata": {
        "colab": {
          "base_uri": "https://localhost:8080/",
          "height": 167
        },
        "id": "A4qL4mlqnwjC",
        "outputId": "4211cbfc-07db-4844-aba3-de836273071c"
      },
      "source": [
        "df.drop_duplicates(subset=['Questions'],inplace=True)\n",
        "df.describe()"
      ],
      "execution_count": null,
      "outputs": [
        {
          "output_type": "execute_result",
          "data": {
            "text/html": [
              "<div>\n",
              "<style scoped>\n",
              "    .dataframe tbody tr th:only-of-type {\n",
              "        vertical-align: middle;\n",
              "    }\n",
              "\n",
              "    .dataframe tbody tr th {\n",
              "        vertical-align: top;\n",
              "    }\n",
              "\n",
              "    .dataframe thead th {\n",
              "        text-align: right;\n",
              "    }\n",
              "</style>\n",
              "<table border=\"1\" class=\"dataframe\">\n",
              "  <thead>\n",
              "    <tr style=\"text-align: right;\">\n",
              "      <th></th>\n",
              "      <th>Questions</th>\n",
              "      <th>Answers</th>\n",
              "    </tr>\n",
              "  </thead>\n",
              "  <tbody>\n",
              "    <tr>\n",
              "      <th>count</th>\n",
              "      <td>4919</td>\n",
              "      <td>4919</td>\n",
              "    </tr>\n",
              "    <tr>\n",
              "      <th>unique</th>\n",
              "      <td>4919</td>\n",
              "      <td>4632</td>\n",
              "    </tr>\n",
              "    <tr>\n",
              "      <th>top</th>\n",
              "      <td>Thông thường từ nhà bạn đến trường tốn bào lâu?</td>\n",
              "      <td></td>\n",
              "    </tr>\n",
              "    <tr>\n",
              "      <th>freq</th>\n",
              "      <td>1</td>\n",
              "      <td>77</td>\n",
              "    </tr>\n",
              "  </tbody>\n",
              "</table>\n",
              "</div>"
            ],
            "text/plain": [
              "                                               Questions Answers\n",
              "count                                               4919    4919\n",
              "unique                                              4919    4632\n",
              "top     Thông thường từ nhà bạn đến trường tốn bào lâu?         \n",
              "freq                                                   1      77"
            ]
          },
          "metadata": {
            "tags": []
          },
          "execution_count": 8
        }
      ]
    },
    {
      "cell_type": "code",
      "metadata": {
        "colab": {
          "base_uri": "https://localhost:8080/"
        },
        "id": "iZFycvHbn2PM",
        "outputId": "7219eaaf-72b6-47b7-f5f3-6636c7aef0b4"
      },
      "source": [
        "print(df.isnull().sum())\n",
        "print('\\n')\n",
        "print(df.isnull().any())"
      ],
      "execution_count": null,
      "outputs": [
        {
          "output_type": "stream",
          "text": [
            "Questions    0\n",
            "Answers      0\n",
            "dtype: int64\n",
            "\n",
            "\n",
            "Questions    False\n",
            "Answers      False\n",
            "dtype: bool\n"
          ],
          "name": "stdout"
        }
      ]
    },
    {
      "cell_type": "code",
      "metadata": {
        "colab": {
          "base_uri": "https://localhost:8080/",
          "height": 227
        },
        "id": "Tc8kH-MKn4U1",
        "outputId": "95d6a7a6-0333-4b7a-a09c-c3aa92a57fa0"
      },
      "source": [
        "df.loc[55:60,:]"
      ],
      "execution_count": null,
      "outputs": [
        {
          "output_type": "execute_result",
          "data": {
            "text/html": [
              "<div>\n",
              "<style scoped>\n",
              "    .dataframe tbody tr th:only-of-type {\n",
              "        vertical-align: middle;\n",
              "    }\n",
              "\n",
              "    .dataframe tbody tr th {\n",
              "        vertical-align: top;\n",
              "    }\n",
              "\n",
              "    .dataframe thead th {\n",
              "        text-align: right;\n",
              "    }\n",
              "</style>\n",
              "<table border=\"1\" class=\"dataframe\">\n",
              "  <thead>\n",
              "    <tr style=\"text-align: right;\">\n",
              "      <th></th>\n",
              "      <th>Questions</th>\n",
              "      <th>Answers</th>\n",
              "    </tr>\n",
              "  </thead>\n",
              "  <tbody>\n",
              "    <tr>\n",
              "      <th>55</th>\n",
              "      <td>bạn có đang đi làm không?</td>\n",
              "      <td>có, hiện tại mình đang đi dạy thêm lập trình ...</td>\n",
              "    </tr>\n",
              "    <tr>\n",
              "      <th>56</th>\n",
              "      <td>bạn đang làm ở đâu?</td>\n",
              "      <td>mình đang làm ở học viện công nghệ TEKY</td>\n",
              "    </tr>\n",
              "    <tr>\n",
              "      <th>57</th>\n",
              "      <td>bạn đi làm có vui không?</td>\n",
              "      <td>chắc chắn là có rồi, làm việc mình thích cơ mà</td>\n",
              "    </tr>\n",
              "    <tr>\n",
              "      <th>58</th>\n",
              "      <td>đồng nghiệp của bạn như thế nào?</td>\n",
              "      <td>từ sếp lớn cho tới các bạn giảng viên ai cũng...</td>\n",
              "    </tr>\n",
              "    <tr>\n",
              "      <th>59</th>\n",
              "      <td>lương của công việc hiện tại của bạn cao không?</td>\n",
              "      <td>lương cũng đủ để tiêu vặt</td>\n",
              "    </tr>\n",
              "    <tr>\n",
              "      <th>60</th>\n",
              "      <td>Mày đang làm cho công ty nào vậy ?</td>\n",
              "      <td>Tao đang làm cho một agency marketing nổi tiếng</td>\n",
              "    </tr>\n",
              "  </tbody>\n",
              "</table>\n",
              "</div>"
            ],
            "text/plain": [
              "                                           Questions                                            Answers\n",
              "55                        bạn có đang đi làm không?    có, hiện tại mình đang đi dạy thêm lập trình ...\n",
              "56                              bạn đang làm ở đâu?            mình đang làm ở học viện công nghệ TEKY \n",
              "57                         bạn đi làm có vui không?     chắc chắn là có rồi, làm việc mình thích cơ mà \n",
              "58                 đồng nghiệp của bạn như thế nào?    từ sếp lớn cho tới các bạn giảng viên ai cũng...\n",
              "59  lương của công việc hiện tại của bạn cao không?                          lương cũng đủ để tiêu vặt \n",
              "60               Mày đang làm cho công ty nào vậy ?    Tao đang làm cho một agency marketing nổi tiếng "
            ]
          },
          "metadata": {
            "tags": []
          },
          "execution_count": 10
        }
      ]
    },
    {
      "cell_type": "markdown",
      "metadata": {
        "id": "EaiJizDfFP55"
      },
      "source": [
        "# III.Text Preprocessing\n",
        "\n",
        "## Lowercase\n",
        "\n",
        "## Remove characters which are not english or numbers"
      ]
    },
    {
      "cell_type": "code",
      "metadata": {
        "id": "Rg1xDN2xn-tO"
      },
      "source": [
        "def pre_process(questions):\n",
        "    stop_words = stopwords.words(\"english\")\n",
        "    \n",
        "    # Remove non english words\n",
        "    questions = [re.sub('[^a-z(c++)(c#)]', ' ', x.lower()) for x in questions]\n",
        "    # Tokenlization\n",
        "    questions_tokens = [nltk.word_tokenize(t) for t in questions]\n",
        "    # Removing Stop Words\n",
        "    questions_stop = [[t for t in tokens if (t not in stop_words) and (3 < len(t.strip()) < 15)]\n",
        "                      for tokens in questions_tokens]\n",
        "    \n",
        "    questions_stop = pd.Series(questions_stop)\n",
        "    return questions_stop"
      ],
      "execution_count": null,
      "outputs": []
    },
    {
      "cell_type": "code",
      "metadata": {
        "colab": {
          "base_uri": "https://localhost:8080/",
          "height": 407
        },
        "id": "GD8kqaldoBXQ",
        "outputId": "0caf5a24-f077-4e4d-f786-f6f1634a4c4f"
      },
      "source": [
        "# Initial preprocessing training data\n",
        "# Initial preprocessing training data\n",
        "questions = df['Questions']\n",
        "questions_pp = pre_process(questions)\n",
        "df"
      ],
      "execution_count": null,
      "outputs": [
        {
          "output_type": "execute_result",
          "data": {
            "text/html": [
              "<div>\n",
              "<style scoped>\n",
              "    .dataframe tbody tr th:only-of-type {\n",
              "        vertical-align: middle;\n",
              "    }\n",
              "\n",
              "    .dataframe tbody tr th {\n",
              "        vertical-align: top;\n",
              "    }\n",
              "\n",
              "    .dataframe thead th {\n",
              "        text-align: right;\n",
              "    }\n",
              "</style>\n",
              "<table border=\"1\" class=\"dataframe\">\n",
              "  <thead>\n",
              "    <tr style=\"text-align: right;\">\n",
              "      <th></th>\n",
              "      <th>Questions</th>\n",
              "      <th>Answers</th>\n",
              "    </tr>\n",
              "  </thead>\n",
              "  <tbody>\n",
              "    <tr>\n",
              "      <th>0</th>\n",
              "      <td>bạn đã có việc làm chưa ?</td>\n",
              "      <td>chưa, mình đang thất nghiệp</td>\n",
              "    </tr>\n",
              "    <tr>\n",
              "      <th>2</th>\n",
              "      <td>bạn đã đi làm hay chưa?</td>\n",
              "      <td>mình đã đi làm rồi</td>\n",
              "    </tr>\n",
              "    <tr>\n",
              "      <th>3</th>\n",
              "      <td>hiện tại bạn làm ở đâu?</td>\n",
              "      <td>hiện tại mình làm ở FPT software</td>\n",
              "    </tr>\n",
              "    <tr>\n",
              "      <th>4</th>\n",
              "      <td>địa chỉ nơi làm việc của bạn ở đâu?</td>\n",
              "      <td>ở khu công nghệ cao</td>\n",
              "    </tr>\n",
              "    <tr>\n",
              "      <th>5</th>\n",
              "      <td>bạn làm công việc gì?</td>\n",
              "      <td>mình đang là kĩ sư phần mêm</td>\n",
              "    </tr>\n",
              "    <tr>\n",
              "      <th>...</th>\n",
              "      <td>...</td>\n",
              "      <td>...</td>\n",
              "    </tr>\n",
              "    <tr>\n",
              "      <th>5846</th>\n",
              "      <td>bạn có thích anime?</td>\n",
              "      <td>yes</td>\n",
              "    </tr>\n",
              "    <tr>\n",
              "      <th>5847</th>\n",
              "      <td>bạn thích xem phim không ?</td>\n",
              "      <td>Thích chứ ông</td>\n",
              "    </tr>\n",
              "    <tr>\n",
              "      <th>5852</th>\n",
              "      <td>Vào mỗi dịp rảnh rỗi, em thường làm gì nhất</td>\n",
              "      <td>Em thường không làm gì cả</td>\n",
              "    </tr>\n",
              "    <tr>\n",
              "      <th>5853</th>\n",
              "      <td>Sao không thử nghe nhạc xem, nó giúp em ổn hơn...</td>\n",
              "      <td>Em chỉ nghe lúc em muốn thôi</td>\n",
              "    </tr>\n",
              "    <tr>\n",
              "      <th>5854</th>\n",
              "      <td>Thế em ghét làm việc gì nhất</td>\n",
              "      <td>Ghét nhất là phải làm bài tập về nhà</td>\n",
              "    </tr>\n",
              "  </tbody>\n",
              "</table>\n",
              "<p>4919 rows × 2 columns</p>\n",
              "</div>"
            ],
            "text/plain": [
              "                                              Questions                                 Answers\n",
              "0                            bạn đã có việc làm chưa ?             chưa, mình đang thất nghiệp \n",
              "2                              bạn đã đi làm hay chưa?                      mình đã đi làm rồi \n",
              "3                              hiện tại bạn làm ở đâu?        hiện tại mình làm ở FPT software \n",
              "4                  địa chỉ nơi làm việc của bạn ở đâu?                     ở khu công nghệ cao \n",
              "5                                bạn làm công việc gì?             mình đang là kĩ sư phần mêm \n",
              "...                                                 ...                                     ...\n",
              "5846                               bạn có thích anime?                                     yes \n",
              "5847                        bạn thích xem phim không ?                           Thích chứ ông \n",
              "5852       Vào mỗi dịp rảnh rỗi, em thường làm gì nhất               Em thường không làm gì cả \n",
              "5853  Sao không thử nghe nhạc xem, nó giúp em ổn hơn...           Em chỉ nghe lúc em muốn thôi \n",
              "5854                      Thế em ghét làm việc gì nhất    Ghét nhất là phải làm bài tập về nhà \n",
              "\n",
              "[4919 rows x 2 columns]"
            ]
          },
          "metadata": {
            "tags": []
          },
          "execution_count": 12
        }
      ]
    },
    {
      "cell_type": "code",
      "metadata": {
        "colab": {
          "base_uri": "https://localhost:8080/",
          "height": 197
        },
        "id": "cg_Qmm6MoXDk",
        "outputId": "32a7c29b-4bc0-4a57-ab80-82dfe7c70963"
      },
      "source": [
        "df['decoder_input'] = df.Answers.apply(lambda x: 'sos '+x)\n",
        "df['decoder_label'] = df.Answers.apply(lambda x: x+' eo>')\n",
        "df.head()"
      ],
      "execution_count": null,
      "outputs": [
        {
          "output_type": "execute_result",
          "data": {
            "text/html": [
              "<div>\n",
              "<style scoped>\n",
              "    .dataframe tbody tr th:only-of-type {\n",
              "        vertical-align: middle;\n",
              "    }\n",
              "\n",
              "    .dataframe tbody tr th {\n",
              "        vertical-align: top;\n",
              "    }\n",
              "\n",
              "    .dataframe thead th {\n",
              "        text-align: right;\n",
              "    }\n",
              "</style>\n",
              "<table border=\"1\" class=\"dataframe\">\n",
              "  <thead>\n",
              "    <tr style=\"text-align: right;\">\n",
              "      <th></th>\n",
              "      <th>Questions</th>\n",
              "      <th>Answers</th>\n",
              "      <th>decoder_input</th>\n",
              "      <th>decoder_label</th>\n",
              "    </tr>\n",
              "  </thead>\n",
              "  <tbody>\n",
              "    <tr>\n",
              "      <th>0</th>\n",
              "      <td>bạn đã có việc làm chưa ?</td>\n",
              "      <td>chưa, mình đang thất nghiệp</td>\n",
              "      <td>sos  chưa, mình đang thất nghiệp</td>\n",
              "      <td>chưa, mình đang thất nghiệp  eo&gt;</td>\n",
              "    </tr>\n",
              "    <tr>\n",
              "      <th>2</th>\n",
              "      <td>bạn đã đi làm hay chưa?</td>\n",
              "      <td>mình đã đi làm rồi</td>\n",
              "      <td>sos  mình đã đi làm rồi</td>\n",
              "      <td>mình đã đi làm rồi  eo&gt;</td>\n",
              "    </tr>\n",
              "    <tr>\n",
              "      <th>3</th>\n",
              "      <td>hiện tại bạn làm ở đâu?</td>\n",
              "      <td>hiện tại mình làm ở FPT software</td>\n",
              "      <td>sos  hiện tại mình làm ở FPT software</td>\n",
              "      <td>hiện tại mình làm ở FPT software  eo&gt;</td>\n",
              "    </tr>\n",
              "    <tr>\n",
              "      <th>4</th>\n",
              "      <td>địa chỉ nơi làm việc của bạn ở đâu?</td>\n",
              "      <td>ở khu công nghệ cao</td>\n",
              "      <td>sos  ở khu công nghệ cao</td>\n",
              "      <td>ở khu công nghệ cao  eo&gt;</td>\n",
              "    </tr>\n",
              "    <tr>\n",
              "      <th>5</th>\n",
              "      <td>bạn làm công việc gì?</td>\n",
              "      <td>mình đang là kĩ sư phần mêm</td>\n",
              "      <td>sos  mình đang là kĩ sư phần mêm</td>\n",
              "      <td>mình đang là kĩ sư phần mêm  eo&gt;</td>\n",
              "    </tr>\n",
              "  </tbody>\n",
              "</table>\n",
              "</div>"
            ],
            "text/plain": [
              "                              Questions  ...                           decoder_label\n",
              "0            bạn đã có việc làm chưa ?   ...        chưa, mình đang thất nghiệp  eo>\n",
              "2              bạn đã đi làm hay chưa?   ...                 mình đã đi làm rồi  eo>\n",
              "3              hiện tại bạn làm ở đâu?   ...   hiện tại mình làm ở FPT software  eo>\n",
              "4  địa chỉ nơi làm việc của bạn ở đâu?   ...                ở khu công nghệ cao  eo>\n",
              "5                bạn làm công việc gì?   ...        mình đang là kĩ sư phần mêm  eo>\n",
              "\n",
              "[5 rows x 4 columns]"
            ]
          },
          "metadata": {
            "tags": []
          },
          "execution_count": 13
        }
      ]
    },
    {
      "cell_type": "code",
      "metadata": {
        "colab": {
          "base_uri": "https://localhost:8080/"
        },
        "id": "Jgzbg0Juop9j",
        "outputId": "0979de92-70a2-432d-9471-e026346623bb"
      },
      "source": [
        "encoder_input = np.array(df.Questions)\n",
        "decoder_input = np.array(df.decoder_input)\n",
        "decoder_label = np.array(df.decoder_label)\n",
        "\n",
        "n_rows = df.shape[0]\n",
        "print(f\"{n_rows} rows\")\n",
        "\n",
        "indices = np.arange(n_rows)\n",
        "np.random.shuffle(indices)\n",
        "\n",
        "encoder_input = encoder_input[indices]\n",
        "decoder_input = decoder_input[indices]\n",
        "decoder_label = decoder_label[indices]\n",
        "\n",
        "train_size = 0.9\n",
        "\n",
        "train_encoder_input = encoder_input[:int(n_rows*train_size)]\n",
        "train_decoder_input = decoder_input[:int(n_rows*train_size)]\n",
        "train_decoder_label = decoder_label[:int(n_rows*train_size)]\n",
        "\n",
        "test_encoder_input = encoder_input[int(n_rows*train_size):]\n",
        "test_decoder_input = decoder_input[int(n_rows*train_size):]\n",
        "test_decoder_label = decoder_label[int(n_rows*train_size):]\n",
        "\n",
        "print(train_encoder_input.shape)\n",
        "print(train_decoder_input.shape)\n",
        "print(train_decoder_label.shape)\n",
        "\n",
        "print(test_encoder_input.shape)\n",
        "print(test_decoder_input.shape)\n",
        "print(test_decoder_label.shape)"
      ],
      "execution_count": null,
      "outputs": [
        {
          "output_type": "stream",
          "text": [
            "4919 rows\n",
            "(4427,)\n",
            "(4427,)\n",
            "(4427,)\n",
            "(492,)\n",
            "(492,)\n",
            "(492,)\n"
          ],
          "name": "stdout"
        }
      ]
    },
    {
      "cell_type": "code",
      "metadata": {
        "colab": {
          "base_uri": "https://localhost:8080/"
        },
        "id": "aJ7bnMy8o6uh",
        "outputId": "b73ff0d4-350d-4754-b602-30f4d4fe95b0"
      },
      "source": [
        "q_tok = Tokenizer()\n",
        "q_tok.fit_on_texts(train_encoder_input)\n",
        "print(len(q_tok.word_counts))\n",
        "\n",
        "a_tok = Tokenizer()\n",
        "a_tok.fit_on_texts(train_decoder_input)\n",
        "a_tok.fit_on_texts(train_decoder_label)\n",
        "print(len(a_tok.word_counts))\n",
        "\n",
        "train_encoder_input = q_tok.texts_to_sequences(train_encoder_input)\n",
        "test_encoder_input = q_tok.texts_to_sequences(test_encoder_input)\n",
        "\n",
        "train_decoder_input = a_tok.texts_to_sequences(train_decoder_input)\n",
        "test_decoder_input = a_tok.texts_to_sequences(test_decoder_input)\n",
        "\n",
        "train_decoder_label = a_tok.texts_to_sequences(train_decoder_label)\n",
        "test_decoder_label = a_tok.texts_to_sequences(test_decoder_label)\n",
        "\n",
        "question_word_size = len(q_tok.word_counts)\n",
        "question_vocab_size = question_word_size+1\n",
        "\n",
        "answer_word_size = len(a_tok.word_counts)\n",
        "answer_vocab_size = answer_word_size+1"
      ],
      "execution_count": null,
      "outputs": [
        {
          "output_type": "stream",
          "text": [
            "2056\n",
            "2984\n"
          ],
          "name": "stdout"
        }
      ]
    },
    {
      "cell_type": "code",
      "metadata": {
        "colab": {
          "base_uri": "https://localhost:8080/",
          "height": 310
        },
        "id": "rqv9Hteyo9M_",
        "outputId": "f8bcf9fa-8dda-49fe-a6a5-32a118ce8121"
      },
      "source": [
        "question_lengths = [len(s) for s in train_encoder_input]\n",
        "print(f\"maximum question sequence length >> {np.max(question_lengths)}\")\n",
        "\n",
        "answer_lengths = [len(s) for s in train_decoder_input]\n",
        "print(f\"maximum answer sequence length >> {np.max(answer_lengths)}\")\n",
        "\n",
        "plt.subplot(2,1,1)\n",
        "plt.hist(question_lengths,bins=50)\n",
        "plt.show()\n",
        "\n",
        "plt.subplot(2,1,2)\n",
        "plt.hist(answer_lengths,bins=50)\n",
        "plt.show()"
      ],
      "execution_count": null,
      "outputs": [
        {
          "output_type": "stream",
          "text": [
            "maximum question sequence length >> 93\n",
            "maximum answer sequence length >> 157\n"
          ],
          "name": "stdout"
        },
        {
          "output_type": "display_data",
          "data": {
            "image/png": "[encoded data removed]",
            "text/plain": [
              "<Figure size 432x288 with 1 Axes>"
            ]
          },
          "metadata": {
            "tags": []
          }
        },
        {
          "output_type": "display_data",
          "data": {
            "image/png": "[encoded data removed]",
            "text/plain": [
              "<Figure size 432x288 with 1 Axes>"
            ]
          },
          "metadata": {
            "tags": []
          }
        }
      ]
    },
    {
      "cell_type": "code",
      "metadata": {
        "colab": {
          "base_uri": "https://localhost:8080/"
        },
        "id": "c7zGAfsyo-Uw",
        "outputId": "d528144c-a44f-4efa-dd9b-05a95b6eb8a7"
      },
      "source": [
        "train_encoder_input = pad_sequences(train_encoder_input,padding='post')\n",
        "train_decoder_input = pad_sequences(train_decoder_input,padding='post')\n",
        "train_decoder_label = pad_sequences(train_decoder_label,padding='post')\n",
        "\n",
        "print(train_encoder_input.shape)\n",
        "print(train_decoder_input.shape)\n",
        "print(train_decoder_label.shape)\n",
        "\n",
        "question_sequence_size = train_encoder_input.shape[1]\n",
        "answer_sequence_size = train_decoder_input.shape[1]\n",
        "\n",
        "test_encoder_input = pad_sequences(test_encoder_input,padding='post',maxlen=question_sequence_size)\n",
        "test_decoder_input = pad_sequences(test_decoder_input,padding='post',maxlen=answer_sequence_size)\n",
        "test_decoder_label = pad_sequences(test_decoder_label,padding='post',maxlen=answer_sequence_size)\n",
        "\n",
        "print(test_encoder_input.shape)\n",
        "print(test_decoder_input.shape)\n",
        "print(test_decoder_label.shape)"
      ],
      "execution_count": null,
      "outputs": [
        {
          "output_type": "stream",
          "text": [
            "(4427, 93)\n",
            "(4427, 157)\n",
            "(4427, 157)\n",
            "(492, 93)\n",
            "(492, 157)\n",
            "(492, 157)\n"
          ],
          "name": "stdout"
        }
      ]
    },
    {
      "cell_type": "markdown",
      "metadata": {
        "id": "gyx0L4ecFfgs"
      },
      "source": [
        "# IV.Encoder-Decoder Model Attention"
      ]
    },
    {
      "cell_type": "code",
      "metadata": {
        "id": "jNyXZooarCS1"
      },
      "source": [
        "embedding_size=256"
      ],
      "execution_count": null,
      "outputs": []
    },
    {
      "cell_type": "code",
      "metadata": {
        "id": "36BL1IZ4rHCw"
      },
      "source": [
        "import tensorflow\n",
        "from tensorflow.keras.layers import Attention"
      ],
      "execution_count": null,
      "outputs": []
    },
    {
      "cell_type": "code",
      "metadata": {
        "id": "axwTGRZRrKl6",
        "colab": {
          "base_uri": "https://localhost:8080/"
        },
        "outputId": "50b4051e-60c9-4079-c5aa-9a96db96faa0"
      },
      "source": [
        "#trainer model\n",
        "\n",
        "hidden_size = 256\n",
        "\n",
        "#encoder part start\n",
        "encoder_input = Input(shape=[question_sequence_size])\n",
        "# encoder_embedding = Embedding(question_vocab_size,embedding_size,mask_zero=True,trainable=False,weights=[question_embedding_matrix])\n",
        "encoder_embedding = Embedding(question_vocab_size,embedding_size,mask_zero=True)\n",
        "encoder_embedded = encoder_embedding(encoder_input)\n",
        "\n",
        "lstm1 = LSTM(hidden_size,return_sequences=True,return_state=True,dropout=0.3,recurrent_dropout=0.3)\n",
        "encoder_output1,_,_= lstm1(encoder_embedded)\n",
        "lstm2 = LSTM(hidden_size,return_sequences=True,return_state=True,dropout=0.3,recurrent_dropout=0.3)\n",
        "encoder_output2,_,_ = lstm2(encoder_output1)\n",
        "lstm3 = LSTM(hidden_size,return_sequences=True,return_state=True,dropout=0.3,recurrent_dropout=0.3)\n",
        "encoder_output3,encoder_h3,encoder_c3= lstm3(encoder_output2)\n",
        "#encoder part done\n",
        "\n",
        "#decoder part start\n",
        "decoder_input = Input(shape=(None,))\n",
        "# decoder_embedding = Embedding(answer_vocab_size,embedding_size,mask_zero=True,trainable=False,weights=[answer_embedding_matrix])\n",
        "decoder_embedding = Embedding(answer_vocab_size,embedding_size,mask_zero=True)\n",
        "decoder_embedded = decoder_embedding(decoder_input)\n",
        "\n",
        "decoder_lstm = LSTM(hidden_size,return_sequences=True,return_state=True)\n",
        "decoder_output,_,_ = decoder_lstm(decoder_embedded,initial_state=[encoder_h3,encoder_c3])\n",
        "\n",
        "#Attention layer (query,value)\n",
        "attn_layer = Attention()\n",
        "attention_context = attn_layer([decoder_output,encoder_output3])\n",
        "\n",
        "decoder_output = Concatenate(axis=-1)([decoder_output,attention_context])\n",
        "\n",
        "dense1 = Dense(512,activation='relu')\n",
        "decoder_output = dense1(decoder_output)\n",
        "\n",
        "decoder_softmax = Dense(answer_vocab_size,activation='softmax')\n",
        "decoder_output = decoder_softmax(decoder_output)\n",
        "\n",
        "trainer = Model([encoder_input,decoder_input],decoder_output)\n",
        "loss = tensorflow.keras.losses.SparseCategoricalCrossentropy(from_logits=False)\n",
        "trainer.compile(loss=loss,optimizer='adam',metrics=['accuracy'])"
      ],
      "execution_count": null,
      "outputs": [
        {
          "output_type": "stream",
          "text": [
            "WARNING:tensorflow:Layer lstm will not use cuDNN kernel since it doesn't meet the cuDNN kernel criteria. It will use generic GPU kernel as fallback when running on GPU\n",
            "WARNING:tensorflow:Layer lstm_1 will not use cuDNN kernel since it doesn't meet the cuDNN kernel criteria. It will use generic GPU kernel as fallback when running on GPU\n",
            "WARNING:tensorflow:Layer lstm_2 will not use cuDNN kernel since it doesn't meet the cuDNN kernel criteria. It will use generic GPU kernel as fallback when running on GPU\n"
          ],
          "name": "stdout"
        }
      ]
    },
    {
      "cell_type": "code",
      "metadata": {
        "colab": {
          "base_uri": "https://localhost:8080/"
        },
        "id": "WJCPO8tDrOWf",
        "outputId": "4509aa93-57bb-41fa-d2a2-4a2aca2c5db6"
      },
      "source": [
        "train_hist = trainer.fit([train_encoder_input,train_decoder_input],train_decoder_label,epochs=45,validation_split=0.1,batch_size=32)"
      ],
      "execution_count": null,
      "outputs": [
        {
          "output_type": "stream",
          "text": [
            "Epoch 1/45\n",
            "125/125 [==============================] - 198s 1s/step - loss: 0.4223 - accuracy: 0.1044 - val_loss: 0.3450 - val_accuracy: 0.1405\n",
            "Epoch 2/45\n",
            "125/125 [==============================] - 153s 1s/step - loss: 0.3543 - accuracy: 0.1312 - val_loss: 0.3353 - val_accuracy: 0.1517\n",
            "Epoch 3/45\n",
            "125/125 [==============================] - 154s 1s/step - loss: 0.3464 - accuracy: 0.1423 - val_loss: 0.3215 - val_accuracy: 0.1633\n",
            "Epoch 4/45\n",
            "125/125 [==============================] - 153s 1s/step - loss: 0.3319 - accuracy: 0.1579 - val_loss: 0.3130 - val_accuracy: 0.1794\n",
            "Epoch 5/45\n",
            "125/125 [==============================] - 152s 1s/step - loss: 0.2998 - accuracy: 0.1781 - val_loss: 0.3084 - val_accuracy: 0.1937\n",
            "Epoch 6/45\n",
            "125/125 [==============================] - 150s 1s/step - loss: 0.2846 - accuracy: 0.1940 - val_loss: 0.3058 - val_accuracy: 0.2134\n",
            "Epoch 7/45\n",
            "125/125 [==============================] - 150s 1s/step - loss: 0.2749 - accuracy: 0.2141 - val_loss: 0.3047 - val_accuracy: 0.2214\n",
            "Epoch 8/45\n",
            "125/125 [==============================] - 149s 1s/step - loss: 0.2494 - accuracy: 0.2389 - val_loss: 0.3090 - val_accuracy: 0.2314\n",
            "Epoch 9/45\n",
            "125/125 [==============================] - 148s 1s/step - loss: 0.2321 - accuracy: 0.2673 - val_loss: 0.3119 - val_accuracy: 0.2348\n",
            "Epoch 10/45\n",
            "125/125 [==============================] - 149s 1s/step - loss: 0.2124 - accuracy: 0.2963 - val_loss: 0.3208 - val_accuracy: 0.2355\n",
            "Epoch 11/45\n",
            "125/125 [==============================] - 148s 1s/step - loss: 0.1936 - accuracy: 0.3423 - val_loss: 0.3275 - val_accuracy: 0.2438\n",
            "Epoch 12/45\n",
            "125/125 [==============================] - 148s 1s/step - loss: 0.1755 - accuracy: 0.3874 - val_loss: 0.3415 - val_accuracy: 0.2338\n",
            "Epoch 13/45\n",
            "125/125 [==============================] - 147s 1s/step - loss: 0.1573 - accuracy: 0.4251 - val_loss: 0.3528 - val_accuracy: 0.2428\n",
            "Epoch 14/45\n",
            "125/125 [==============================] - 145s 1s/step - loss: 0.1410 - accuracy: 0.4755 - val_loss: 0.3657 - val_accuracy: 0.2285\n",
            "Epoch 15/45\n",
            "125/125 [==============================] - 149s 1s/step - loss: 0.1243 - accuracy: 0.5237 - val_loss: 0.3806 - val_accuracy: 0.2273\n",
            "Epoch 16/45\n",
            "125/125 [==============================] - 150s 1s/step - loss: 0.1121 - accuracy: 0.5648 - val_loss: 0.3947 - val_accuracy: 0.2297\n",
            "Epoch 17/45\n",
            "125/125 [==============================] - 147s 1s/step - loss: 0.0984 - accuracy: 0.6140 - val_loss: 0.4135 - val_accuracy: 0.2353\n",
            "Epoch 18/45\n",
            "125/125 [==============================] - 148s 1s/step - loss: 0.0858 - accuracy: 0.6549 - val_loss: 0.4287 - val_accuracy: 0.2222\n",
            "Epoch 19/45\n",
            "125/125 [==============================] - 146s 1s/step - loss: 0.0757 - accuracy: 0.6947 - val_loss: 0.4448 - val_accuracy: 0.2173\n",
            "Epoch 20/45\n",
            "125/125 [==============================] - 147s 1s/step - loss: 0.0657 - accuracy: 0.7399 - val_loss: 0.4613 - val_accuracy: 0.2224\n",
            "Epoch 21/45\n",
            "125/125 [==============================] - 148s 1s/step - loss: 0.0561 - accuracy: 0.7726 - val_loss: 0.4794 - val_accuracy: 0.2299\n",
            "Epoch 22/45\n",
            "125/125 [==============================] - 146s 1s/step - loss: 0.0478 - accuracy: 0.8065 - val_loss: 0.4913 - val_accuracy: 0.2175\n",
            "Epoch 23/45\n",
            "125/125 [==============================] - 146s 1s/step - loss: 0.0421 - accuracy: 0.8301 - val_loss: 0.5071 - val_accuracy: 0.2236\n",
            "Epoch 24/45\n",
            "125/125 [==============================] - 146s 1s/step - loss: 0.0349 - accuracy: 0.8612 - val_loss: 0.5224 - val_accuracy: 0.2178\n",
            "Epoch 25/45\n",
            "125/125 [==============================] - 142s 1s/step - loss: 0.0302 - accuracy: 0.8824 - val_loss: 0.5354 - val_accuracy: 0.2168\n",
            "Epoch 26/45\n",
            "125/125 [==============================] - 143s 1s/step - loss: 0.0263 - accuracy: 0.8975 - val_loss: 0.5530 - val_accuracy: 0.2197\n",
            "Epoch 27/45\n",
            "125/125 [==============================] - 143s 1s/step - loss: 0.0220 - accuracy: 0.9169 - val_loss: 0.5657 - val_accuracy: 0.2146\n",
            "Epoch 28/45\n",
            "125/125 [==============================] - 145s 1s/step - loss: 0.0193 - accuracy: 0.9262 - val_loss: 0.5824 - val_accuracy: 0.2183\n",
            "Epoch 29/45\n",
            "125/125 [==============================] - 144s 1s/step - loss: 0.0173 - accuracy: 0.9358 - val_loss: 0.5889 - val_accuracy: 0.2154\n",
            "Epoch 30/45\n",
            "125/125 [==============================] - 144s 1s/step - loss: 0.0148 - accuracy: 0.9435 - val_loss: 0.6006 - val_accuracy: 0.2188\n",
            "Epoch 31/45\n",
            "125/125 [==============================] - 142s 1s/step - loss: 0.0132 - accuracy: 0.9484 - val_loss: 0.6155 - val_accuracy: 0.2158\n",
            "Epoch 32/45\n",
            "125/125 [==============================] - 142s 1s/step - loss: 0.0117 - accuracy: 0.9531 - val_loss: 0.6258 - val_accuracy: 0.2173\n",
            "Epoch 33/45\n",
            "125/125 [==============================] - 142s 1s/step - loss: 0.0102 - accuracy: 0.9632 - val_loss: 0.6332 - val_accuracy: 0.2146\n",
            "Epoch 34/45\n",
            "125/125 [==============================] - 142s 1s/step - loss: 0.0089 - accuracy: 0.9653 - val_loss: 0.6421 - val_accuracy: 0.2178\n",
            "Epoch 35/45\n",
            "125/125 [==============================] - 145s 1s/step - loss: 0.0082 - accuracy: 0.9699 - val_loss: 0.6477 - val_accuracy: 0.2193\n",
            "Epoch 36/45\n",
            "125/125 [==============================] - 145s 1s/step - loss: 0.0078 - accuracy: 0.9696 - val_loss: 0.6537 - val_accuracy: 0.2151\n",
            "Epoch 37/45\n",
            "125/125 [==============================] - 153s 1s/step - loss: 0.0071 - accuracy: 0.9741 - val_loss: 0.6656 - val_accuracy: 0.2185\n",
            "Epoch 38/45\n",
            "125/125 [==============================] - 154s 1s/step - loss: 0.0071 - accuracy: 0.9724 - val_loss: 0.6686 - val_accuracy: 0.2127\n",
            "Epoch 39/45\n",
            "125/125 [==============================] - 149s 1s/step - loss: 0.0076 - accuracy: 0.9709 - val_loss: 0.6704 - val_accuracy: 0.2175\n",
            "Epoch 40/45\n",
            "125/125 [==============================] - 149s 1s/step - loss: 0.0072 - accuracy: 0.9719 - val_loss: 0.6814 - val_accuracy: 0.2171\n",
            "Epoch 41/45\n",
            "125/125 [==============================] - 150s 1s/step - loss: 0.0066 - accuracy: 0.9745 - val_loss: 0.6776 - val_accuracy: 0.2112\n",
            "Epoch 42/45\n",
            "125/125 [==============================] - 150s 1s/step - loss: 0.0069 - accuracy: 0.9739 - val_loss: 0.6832 - val_accuracy: 0.2166\n",
            "Epoch 43/45\n",
            "125/125 [==============================] - 150s 1s/step - loss: 0.0081 - accuracy: 0.9693 - val_loss: 0.6925 - val_accuracy: 0.2158\n",
            "Epoch 44/45\n",
            "125/125 [==============================] - 151s 1s/step - loss: 0.0083 - accuracy: 0.9661 - val_loss: 0.6886 - val_accuracy: 0.2100\n",
            "Epoch 45/45\n",
            "125/125 [==============================] - 150s 1s/step - loss: 0.0067 - accuracy: 0.9729 - val_loss: 0.6946 - val_accuracy: 0.2093\n"
          ],
          "name": "stdout"
        }
      ]
    },
    {
      "cell_type": "markdown",
      "metadata": {
        "id": "-CT-daJ3F_-B"
      },
      "source": [
        "## 1.Generator model"
      ]
    },
    {
      "cell_type": "code",
      "metadata": {
        "id": "JzeDsYhOF8ON"
      },
      "source": [
        "from tensorflow.keras.utils import plot_model\n",
        "\n",
        "gen_encoder = Model(encoder_input,[encoder_output3,encoder_h3,encoder_c3])\n",
        "\n",
        "gen_decoder_value_input = Input(shape=(question_sequence_size,hidden_size))\n",
        "gen_decoder_h_input = Input(shape=[hidden_size])\n",
        "gen_decoder_c_input = Input(shape=[hidden_size])\n",
        "\n",
        "gen_decoder_embedded = decoder_embedding(decoder_input)\n",
        "gen_decoder_output,gen_decoder_h,gen_decoder_c = decoder_lstm(gen_decoder_embedded,initial_state=[gen_decoder_h_input,gen_decoder_c_input])"
      ],
      "execution_count": null,
      "outputs": []
    },
    {
      "cell_type": "markdown",
      "metadata": {
        "id": "LT36_3v8GGGC"
      },
      "source": [
        "## 2.Attention([querys,values])"
      ]
    },
    {
      "cell_type": "code",
      "metadata": {
        "id": "X4TCQXwkGGwa"
      },
      "source": [
        "gen_attention_context = attn_layer([gen_decoder_output,gen_decoder_value_input])\n",
        "gen_decoder_output = Concatenate(axis=-1)([gen_decoder_output,gen_attention_context])\n",
        "\n",
        "gen_decoder_output = dense1(gen_decoder_output)\n",
        "gen_decoder_output = decoder_softmax(gen_decoder_output)\n",
        "\n",
        "gen_decoder = Model([decoder_input]+[gen_decoder_value_input,gen_decoder_h_input,gen_decoder_c_input],[gen_decoder_output]+[gen_decoder_h,gen_decoder_c])"
      ],
      "execution_count": null,
      "outputs": []
    },
    {
      "cell_type": "code",
      "metadata": {
        "colab": {
          "base_uri": "https://localhost:8080/",
          "height": 466
        },
        "id": "xNNoeQOzIINm",
        "outputId": "89ab3220-14b9-471f-9e8d-6f55949d06f7"
      },
      "source": [
        "plot_model(gen_encoder)"
      ],
      "execution_count": null,
      "outputs": [
        {
          "output_type": "execute_result",
          "data": {
            "image/png": "[encoded data removed]",
            "text/plain": [
              "<IPython.core.display.Image object>"
            ]
          },
          "metadata": {
            "tags": []
          },
          "execution_count": 24
        }
      ]
    },
    {
      "cell_type": "code",
      "metadata": {
        "colab": {
          "base_uri": "https://localhost:8080/",
          "height": 661
        },
        "id": "t24eY1LA8EvD",
        "outputId": "aad25492-5067-4efb-cd7e-a9424acbe120"
      },
      "source": [
        "plot_model(gen_decoder)"
      ],
      "execution_count": null,
      "outputs": [
        {
          "output_type": "execute_result",
          "data": {
            "image/png": "[encoded data removed]",
            "text/plain": [
              "<IPython.core.display.Image object>"
            ]
          },
          "metadata": {
            "tags": []
          },
          "execution_count": 25
        }
      ]
    },
    {
      "cell_type": "code",
      "metadata": {
        "colab": {
          "base_uri": "https://localhost:8080/"
        },
        "id": "EcHYS9lQ8Fwu",
        "outputId": "df3e556d-dff4-489d-e741-4f162a2cf161"
      },
      "source": [
        "def generate_from_input(encoder_input):\n",
        "    values,h,c = gen_encoder.predict(encoder_input)\n",
        "    \n",
        "    decoder_seq = np.zeros((1,1))\n",
        "    decoder_seq[0,0] = a_tok.word_index['sos']\n",
        "    \n",
        "    generated_sent = ''\n",
        "    stop_condition= False\n",
        "    \n",
        "    while not stop_condition:\n",
        "        output,h_state,c_state = gen_decoder.predict([decoder_seq]+[values,h,c])\n",
        "        sampled_index = np.argmax(output[0,-1,:])\n",
        "        sampled_word = a_tok.index_word[sampled_index]\n",
        "        \n",
        "        if sampled_word != 'eos':\n",
        "            generated_sent = generated_sent + sampled_word + ' '\n",
        "        \n",
        "        if sampled_word == 'eos' or len(generated_sent) >= answer_sequence_size:\n",
        "            stop_condition=True\n",
        "        \n",
        "        decoder_seq = np.zeros((1,1))\n",
        "        decoder_seq[0,0] = sampled_index\n",
        "        h,c = h_state,c_state\n",
        "        \n",
        "    return generated_sent.strip()\n",
        " \n",
        "print(generate_from_input(train_encoder_input[24].reshape(1,question_sequence_size,-1)))\n",
        "print(generate_from_input(train_encoder_input[1021].reshape(1,question_sequence_size,-1)))\n",
        "print(generate_from_input(train_encoder_input[3001].reshape(1,question_sequence_size,-1)))"
      ],
      "execution_count": null,
      "outputs": [
        {
          "output_type": "stream",
          "text": [
            "mình học trường đại học tôn đức thắng eo ngành tớ thuộc khoá 15 eo eo eo eo cũng đặt trình hay chuyên trình chất lượng cao và truyền thông dữ liệu eo eo eo khác\n",
            "mình sinh ra ở thành phố hồ chí minh eo tài năng và trơn tru các vùng miền miền vin rẻ eo eo do bán trình ở bình edu eo do mình eo trình gì cũng có trình trung\n",
            "tui cũng không biết nữa nhưng thú thật đi chỗ nào cũng thấy eo ốc eo cái đã đi eo đỉnh eo mới bán eo cũng được thì thú lắm eo địa chỉ cần phải đọc hợp với chăn\n"
          ],
          "name": "stdout"
        }
      ]
    },
    {
      "cell_type": "code",
      "metadata": {
        "id": "zTiUJS4YCHHG"
      },
      "source": [
        "def seq2question(encoder_input):\n",
        "    ret=[q_tok.index_word[idx] for idx in encoder_input if idx != 0]\n",
        "    return ' '.join(ret)\n",
        "\n",
        "def seq2answer(decoder_input):\n",
        "    ret = []\n",
        "    for idx in decoder_input:\n",
        "        if idx != 0:\n",
        "            if a_tok.index_word[idx] != 'sos' and a_tok.index_word[idx] != 'eos':\n",
        "                ret.append(a_tok.index_word[idx])\n",
        "                \n",
        "    return ' '.join(ret)"
      ],
      "execution_count": null,
      "outputs": []
    },
    {
      "cell_type": "markdown",
      "metadata": {
        "id": "_HW8MUpLGcMr"
      },
      "source": [
        "## 3.Results on train dataset"
      ]
    },
    {
      "cell_type": "code",
      "metadata": {
        "colab": {
          "base_uri": "https://localhost:8080/"
        },
        "id": "OnN1ND198KkV",
        "outputId": "213e7d4c-bf45-4a34-b980-51662a4d4795"
      },
      "source": [
        "sample_indices= [5,26,7,11,735,662,115,31,63]\n",
        "\n",
        "for idx in sample_indices:\n",
        "    generated_sent = generate_from_input(train_encoder_input[idx:idx+1])\n",
        "    print(f\"Question >> {seq2question(train_encoder_input[idx])}\")\n",
        "    print(f\"Answer(Generated) >> {generated_sent}\")\n",
        "    print(f\"Answer(Label) >> {seq2answer(train_decoder_input[idx])}\")\n",
        "    print(\"=\"*45)\n",
        "    print(\"\\n\")"
      ],
      "execution_count": null,
      "outputs": [
        {
          "output_type": "stream",
          "text": [
            "Question >> bạn nghĩ mình sẽ sống độc thân đến cuối đời\n",
            "Answer(Generated) >> không đâu mình nghĩ bạn sẽ tìm được ai đó thôi hiện tại không thể nhưng tương lai có thể eo eo một việc của bạn eo của người đó nếu muốn rất người yêu mình eo\n",
            "Answer(Label) >> không đâu mình nghĩ bạn sẽ tìm được ai đó thôi hiện tại không thể nhưng tương lai có thể\n",
            "=============================================\n",
            "\n",
            "\n",
            "Question >> quê bạn có nhiều địa điểm du lịch không\n",
            "Answer(Generated) >> quê tớ có nhiều lắm ví dụ như là quảng trường hồ chí minh quê bác núi quyết eo eo eo có có đặc sản khác nhau là một số khác nhau là nơi có có chỗ mua lớn ở đây\n",
            "Answer(Label) >> quê tớ có nhiều lắm ví dụ như là quảng trường hồ chí minh quê bác núi quyết\n",
            "=============================================\n",
            "\n",
            "\n",
            "Question >> chỗ cafe ưa thích mà bạn hay lui đến là ở đâu\n",
            "Answer(Generated) >> thường thì mình thích ngồi những quán lề đường để cảm nhận nhịp sống của sài gòn eo sài gòn eo sài gòn eo sài gòn eo ngắm bạn nếu rất dễ thương và sài gòn đã\n",
            "Answer(Label) >> thường thì mình thích ngồi những quán lề đường để cảm nhận nhịp sống của sài gòn\n",
            "=============================================\n",
            "\n",
            "\n",
            "Question >> bạn sinh ngày nào\n",
            "Answer(Generated) >> mình sinh ngày 1 tháng 9 eo eo eo chi số gì eo eo chi eo eo eo eo eo eo mình eo eo du khách của du khách eo sinh trường eo truyền thông eo eo eo tỉnh thành eo\n",
            "Answer(Label) >> \n",
            "=============================================\n",
            "\n",
            "\n",
            "Question >> gu thời trang của bạn là gì vậy\n",
            "Answer(Generated) >> mình hay mặc đồ theo kiểu đường phố vì nó làm mình được thoải mái eo sợ tao eo eo đó hết eo eo eo nào eo eo gì eo eo eo hôm tới eo eo eo mới nữa eo eo gì eo\n",
            "Answer(Label) >> mình hay mặc đồ theo kiểu đường phố vì nó làm mình được thoải mái\n",
            "=============================================\n",
            "\n",
            "\n",
            "Question >> khi nào cậu đi du lịch\n",
            "Answer(Generated) >> sau tết rồi đi eo này eo gần quán cà phê eo hay đi nữa eo tiếp tắm biển eo eo gần nhà mình eo eo về nhà khi đi du lịch về tắm đi eo eo hay sao eo giải tỏa eo\n",
            "Answer(Label) >> sau tết rồi đi\n",
            "=============================================\n",
            "\n",
            "\n",
            "Question >> bạn thuê nhà như thế nào thế\n",
            "Answer(Generated) >> trải nghiệm của mình là mình ký hợp đồng với chủ nhà và đặt cọc nhớ chú ý các điều khoản trong hợp đồng tránh rắc rối nhé eo eo rộng rãi nhé eo eo luôn là con\n",
            "Answer(Label) >> trải nghiệm của mình là mình ký hợp đồng với chủ nhà và đặt cọc nhớ chú ý các điều khoản trong hợp đồng tránh rắc rối nhé\n",
            "=============================================\n",
            "\n",
            "\n",
            "Question >> bây giờ em đặt ship đến đồng nai thì bao lâu đến ạ\n",
            "Answer(Generated) >> khoảng 2 3 ngày là tới nha eo eo khoảng 30 triệu eo eo khoảng khoảng 2 á eo eo eo khoảng khoảng 2 triệu eo eo khoảng khoảng 3 á eo eo eo khoảng khoảng 2 triệu\n",
            "Answer(Label) >> khoảng 2 3 ngày là tới nha\n",
            "=============================================\n",
            "\n",
            "\n",
            "Question >> shop ơi mẫu laptop asus rog strix g 531 core i7 10300h còn không ạ\n",
            "Answer(Generated) >> chào bạn hiện tại dòng máy với option đó vẫn còn bạn nhé eo thì vẫn còn bạn lên cấp trên để còn thêm màn hình hạng thì em phải được cấp trên đó chọn hàng thì\n",
            "Answer(Label) >> chào bạn hiện tại dòng máy với option đó vẫn còn bạn nhé\n",
            "=============================================\n",
            "\n",
            "\n"
          ],
          "name": "stdout"
        }
      ]
    },
    {
      "cell_type": "markdown",
      "metadata": {
        "id": "MxRUgvHTGg1h"
      },
      "source": [
        "## 4.Results on test dataset"
      ]
    },
    {
      "cell_type": "code",
      "metadata": {
        "colab": {
          "base_uri": "https://localhost:8080/"
        },
        "id": "lDSa7bUn8LbS",
        "outputId": "49c270ff-b1ea-48bf-82b5-1932cd02376a"
      },
      "source": [
        "sample_indices= [159,50,62,31,57]\n",
        "\n",
        "for idx in sample_indices:\n",
        "    generated_sent = generate_from_input(test_encoder_input[idx:idx+1])\n",
        "    print(f\"Question >> {seq2question(test_encoder_input[idx])}\")\n",
        "    print(f\"Answer(Generated) >> {generated_sent}\")\n",
        "    print(f\"Answer(Label) >> {seq2answer(test_decoder_input[idx])}\")\n",
        "    print(\"=\"*45)\n",
        "    print(\"\\n\")"
      ],
      "execution_count": null,
      "outputs": [
        {
          "output_type": "stream",
          "text": [
            "Question >> bạn có thường xuyên đi chơi bên ngoài với bạn bè mình không\n",
            "Answer(Generated) >> có mình thường đến các show rap eo ngoài eo sạch là đi eo eo đi chơi eo đi chơi eo đi chơi eo đi học eo đi học về cntt eo eo mây mây mây nữa eo eo eo mây nữa\n",
            "Answer(Label) >> có mình thường xuyên đi chơi với bạn bè mình\n",
            "=============================================\n",
            "\n",
            "\n",
            "Question >> mày tên gì\n",
            "Answer(Generated) >> quê mình ở tiền giang eo eo liên khai á eo eo eo số gì eo eo eo gì eo eo eo gì eo eo eo gì eo eo eo gì eo eo eo gì eo eo eo gì eo eo eo nữa eo eo eo nữa eo\n",
            "Answer(Label) >> vũ\n",
            "=============================================\n",
            "\n",
            "\n",
            "Question >> hiện bạn cảm thấy như thế nào\n",
            "Answer(Generated) >> không bạn bè mình cực kỳ được yêu cùng lớp eo eo eo đi không eo hay đi eo eo đi học eo và đam mê của mình cũng rất vui tính eo rất vui với bạn eo eo không eo\n",
            "Answer(Label) >> bình thường\n",
            "=============================================\n",
            "\n",
            "\n",
            "Question >> bạn có quần này màu không\n",
            "Answer(Generated) >> dạ cũng được con mới vào cũng không biết hay về sinh vào là noel eo eo eo eo sao không eo nữa eo eo eo sao eo eo eo sao eo eo eo sao eo eo eo sao eo eo eo sao\n",
            "Answer(Label) >> không mình chỉ có màu xanh thôi\n",
            "=============================================\n",
            "\n",
            "\n",
            "Question >> cậu thích đến nước nào\n",
            "Answer(Generated) >> tớ thích xem phim hành động và đặc biệt là như bánh canh quận 2 và yêu eo hàng eo eo này thì là một người con trai cùng nhau hò hét rất hiện đại eo eo và khi\n",
            "Answer(Label) >> mình thích nước anh vì có tháp\n",
            "=============================================\n",
            "\n",
            "\n"
          ],
          "name": "stdout"
        }
      ]
    }
  ]
}